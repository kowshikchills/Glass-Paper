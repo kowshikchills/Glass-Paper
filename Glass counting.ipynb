{
 "cells": [
  {
   "cell_type": "code",
   "execution_count": 100,
   "metadata": {
    "collapsed": false
   },
   "outputs": [],
   "source": [
    "\n",
    "def imgpros(URL):\n",
    "            import numpy as np\n",
    "            import matplotlib.pyplot as plt\n",
    "            from skimage.segmentation import slic\n",
    "            from skimage import filters,io,morphology,color,data,exposure,img_as_float,feature\n",
    "            from scipy import ndimage as ndi\n",
    "            from skimage import feature\n",
    "            from skimage import io\n",
    "            from skimage.morphology import watershed\n",
    "            from skimage.feature import peak_local_max\n",
    "            from skimage.morphology import closing,dilation,opening,white_tophat,erosion,skeletonize\n",
    "            from skimage.morphology import disk\n",
    "            from skimage.filters.rank import median,mean\n",
    "            from skimage.measure import regionprops\n",
    "            from skimage.morphology import remove_small_objects\n",
    "\n",
    "            d1  = disk(0)     #(EROSION)Thickness improvement\n",
    "            d2 = disk(10)      #opening radius \n",
    "            d3 = disk(0)      #Noise reduction                    \n",
    "            d4 = disk(0)      #smoothing\n",
    "            d5 = disk(1)      #Dilation\n",
    "            bimg = io.imread(URL)\n",
    "            cimg = bimg\n",
    "            image = img_as_float(cimg)\n",
    "            gamma_corrected = exposure.adjust_gamma(image, 1)\n",
    "            gamma_corrected = exposure.equalize_hist(gamma_corrected)\n",
    "            gamma_corrected = exposure.equalize_adapthist(gamma_corrected)\n",
    "            gamma_corrected = exposure.rescale_intensity(gamma_corrected)\n",
    "            img  =gamma_corrected \n",
    "            imgg = color.rgb2gray(img)\n",
    "            imgg1 = mean(imgg, d4)\n",
    "            imgg2 = median(imgg1, d3) \n",
    "            dilated =dilation(imgg2,d5)\n",
    "            eroded = erosion(dilated, d1) \n",
    "            thresh = filters.threshold_adaptive(eroded,251,'gaussian')\n",
    "            BW = imgg>=thresh\n",
    "            BW_smt = remove_small_objects(BW,500) \n",
    "            opened = opening(BW_smt ,d2)\n",
    "            distance = ndi.distance_transform_edt(~BW_smt)\n",
    "            labels = morphology.label(~opened, background=-1)\n",
    "            labels = morphology.remove_small_objects(labels,500) \n",
    "            ########################################################\n",
    "            props = regionprops(labels)\n",
    "            END = []\n",
    "            for i in range(len(np.unique(labels))-1):\n",
    "                if 10 in props[i].coords:\n",
    "                    END.append(i)\n",
    "            for i in range(len(np.unique(labels))-1):\n",
    "                if 899 in props[i].coords:\n",
    "                    END.append(i)\n",
    "            #########################################################\n",
    "            from scipy import ndimage\n",
    "            X = []\n",
    "            Y = []\n",
    "            for i in np.unique(labels)[1:]:\n",
    "                X.append(ndimage.measurements.center_of_mass(labels == i)[1])\n",
    "                Y.append(ndimage.measurements.center_of_mass(labels == i)[0])\n",
    "\n",
    "            from skimage.color import label2rgb\n",
    "            import matplotlib.patches as mpatches\n",
    "\n",
    "            label_overlay = label2rgb(labels, image=image)\n",
    "\n",
    "            fig, ax = plt.subplots(ncols=1, nrows=1, figsize=(6, 6))\n",
    "            ax.imshow(label_overlay)\n",
    "\n",
    "            props = regionprops(labels)\n",
    "            for  i in range(len(regionprops(labels))):\n",
    "\n",
    "\n",
    "                if props[i].area < 100:\n",
    "                    continue \n",
    "                if i in END:\n",
    "                    minr, minc, maxr, maxc = props[i].bbox\n",
    "                    rect = mpatches.Rectangle((minc, minr), maxc - minc, maxr - minr,\n",
    "                                           fill=False, edgecolor='white', linewidth=1)\n",
    "                else:\n",
    "                    minr, minc, maxr, maxc = props[i].bbox\n",
    "                    rect = mpatches.Rectangle((minc, minr), maxc - minc, maxr - minr,\n",
    "                                           fill=False, edgecolor='red', linewidth=1)\n",
    "\n",
    "\n",
    "                ax.add_patch(rect)\n",
    "\n",
    "            #plt.plot(X,Y,'ro')\n",
    "            cid = fig.canvas.mpl_connect('button_press_event', onclick)\n",
    "            fig.show()\n",
    "            print 'Number of Fragments Observed',len(np.unique(labels))\n",
    "            print 'Number of End Pieces Observed',len(END),'End Pieces'\n",
    "            ############################################################"
   ]
  },
  {
   "cell_type": "code",
   "execution_count": 69,
   "metadata": {
    "collapsed": true
   },
   "outputs": [],
   "source": [
    "URL = 'C:\\Users\\Kowshik\\Desktop\\glass\\A14.JPG'\n",
    "imgpros(URL)\n",
    "import warnings\n",
    "warnings.filterwarnings('ignore')"
   ]
  },
  {
   "cell_type": "code",
   "execution_count": 101,
   "metadata": {
    "collapsed": false
   },
   "outputs": [
    {
     "name": "stdout",
     "output_type": "stream",
     "text": [
      "Number of Fragments Observed 63\n",
      "Number of End Pieces Observed 17 End Pieces\n",
      "Area of Fragment 8817 Pixels\n",
      "Equivalent Diameter 105.953542017 Pixels\n",
      "Major Axis Length 171.667628627 Pixels\n",
      "Area of Fragment 8817 Pixels\n",
      "Equivalent Diameter 105.953542017 Pixels\n",
      "Major Axis Length 171.667628627 Pixels\n",
      "Area of Fragment 7075 Pixels\n",
      "Equivalent Diameter 94.9113785539 Pixels\n",
      "Major Axis Length 127.08002601 Pixels\n",
      "Area of Fragment 7075 Pixels\n",
      "Equivalent Diameter 94.9113785539 Pixels\n",
      "Major Axis Length 127.08002601 Pixels\n",
      "Area of Fragment 6110 Pixels\n",
      "Equivalent Diameter 88.2014377339 Pixels\n",
      "Major Axis Length 100.839518011 Pixels\n",
      "Area of Fragment 6110 Pixels\n",
      "Equivalent Diameter 88.2014377339 Pixels\n",
      "Major Axis Length 100.839518011 Pixels\n",
      "Area of Fragment 7106 Pixels\n",
      "Equivalent Diameter 95.1190843358 Pixels\n",
      "Major Axis Length 137.502095493 Pixels\n",
      "Area of Fragment 7106 Pixels\n",
      "Equivalent Diameter 95.1190843358 Pixels\n",
      "Major Axis Length 137.502095493 Pixels\n",
      "Area of Fragment 1253 Pixels\n",
      "Equivalent Diameter 39.9420724244 Pixels\n",
      "Major Axis Length 50.6258474559 Pixels\n",
      "Area of Fragment 7075 Pixels\n",
      "Equivalent Diameter 94.9113785539 Pixels\n",
      "Major Axis Length 127.08002601 Pixels\n"
     ]
    }
   ],
   "source": [
    "import numpy as np\n",
    "import matplotlib.pyplot as plt\n",
    "from skimage.segmentation import slic\n",
    "from skimage import filters,io,morphology,color,data,exposure,img_as_float,feature\n",
    "from scipy import ndimage as ndi\n",
    "from skimage import feature\n",
    "from skimage import io\n",
    "from skimage.morphology import watershed\n",
    "from skimage.feature import peak_local_max\n",
    "from skimage.morphology import closing,dilation,opening,white_tophat,erosion,skeletonize\n",
    "from skimage.morphology import disk\n",
    "from skimage.filters.rank import median,mean\n",
    "from skimage.measure import regionprops\n",
    "from skimage.morphology import remove_small_objects\n",
    "\n",
    "d1  = disk(0)     #(EROSION)Thickness improvement\n",
    "d2 = disk(10)      #opening radius \n",
    "d3 = disk(0)      #Noise reduction                    \n",
    "d4 = disk(0)      #smoothing\n",
    "d5 = disk(1)      #Dilation\n",
    "bimg = io.imread('C:\\Users\\Kowshik\\Desktop\\glass\\A14.JPG')\n",
    "cimg = bimg\n",
    "image = img_as_float(cimg)\n",
    "gamma_corrected = exposure.adjust_gamma(image, 1)\n",
    "gamma_corrected = exposure.equalize_hist(gamma_corrected)\n",
    "gamma_corrected = exposure.equalize_adapthist(gamma_corrected)\n",
    "gamma_corrected = exposure.rescale_intensity(gamma_corrected)\n",
    "img  =gamma_corrected \n",
    "imgg = color.rgb2gray(img)\n",
    "imgg1 = mean(imgg, d4)\n",
    "imgg2 = median(imgg1, d3) \n",
    "dilated =dilation(imgg2,d5)\n",
    "eroded = erosion(dilated, d1) \n",
    "thresh = filters.threshold_adaptive(eroded,251,'gaussian')\n",
    "BW = imgg>=thresh\n",
    "BW_smt = remove_small_objects(BW,500) \n",
    "opened = opening(BW_smt ,d2)\n",
    "distance = ndi.distance_transform_edt(~BW_smt)\n",
    "labels = morphology.label(~opened, background=-1)\n",
    "labels = morphology.remove_small_objects(labels,500) \n",
    "########################################################\n",
    "props = regionprops(labels)\n",
    "END = []\n",
    "for i in range(len(np.unique(labels))-1):\n",
    "    if 10 in props[i].coords:\n",
    "        END.append(i)\n",
    "for i in range(len(np.unique(labels))-1):\n",
    "    if 899 in props[i].coords:\n",
    "        END.append(i)\n",
    "#########################################################\n",
    "from scipy import ndimage\n",
    "X = []\n",
    "Y = []\n",
    "for i in np.unique(labels)[1:]:\n",
    "    X.append(ndimage.measurements.center_of_mass(labels == i)[1])\n",
    "    Y.append(ndimage.measurements.center_of_mass(labels == i)[0])\n",
    "\n",
    "from skimage.color import label2rgb\n",
    "import matplotlib.patches as mpatches\n",
    "\n",
    "label_overlay = label2rgb(labels, image=image)\n",
    "\n",
    "fig, ax = plt.subplots(ncols=1, nrows=1, figsize=(6, 6))\n",
    "ax.imshow(label_overlay)\n",
    "\n",
    "props = regionprops(labels)\n",
    "def onclick(event):\n",
    "    y = event.xdata\n",
    "    x = event.ydata\n",
    "    for  i in range(1,len(regionprops(labels))): \n",
    "        if int(props[i].bbox[0]) <x and int(props[i].bbox[2]) >x and int(props[i].bbox[1]) <y  and int(props[i].bbox[3]) >y:\n",
    "            print \"Area of Fragment = \", props[i].area,\"Pixels\\n\",\"Equivalent Diameter = \", props[i].equivalent_diameter ,\"Pixels\\n\",\\\n",
    "\"Major Axis Length = \", props[i].major_axis_length ,\"Pixels\\n\",\n",
    "for  i in range(len(regionprops(labels))):\n",
    "\n",
    "\n",
    "    if props[i].area < 100:\n",
    "        continue \n",
    "    if i in END:\n",
    "        minr, minc, maxr, maxc = props[i].bbox\n",
    "        rect = mpatches.Rectangle((minc, minr), maxc - minc, maxr - minr,\n",
    "                               fill=False, edgecolor='white', linewidth=1)\n",
    "    else:\n",
    "        minr, minc, maxr, maxc = props[i].bbox\n",
    "        rect = mpatches.Rectangle((minc, minr), maxc - minc, maxr - minr,\n",
    "                               fill=False, edgecolor='red', linewidth=1)\n",
    "\n",
    "    ax.add_patch(rect)\n",
    "\n",
    "#plt.plot(X,Y,'ro')\n",
    "\n",
    "print 'Number of Fragments Observed',len(np.unique(labels))\n",
    "print 'Number of End Pieces Observed',len(END),'End Pieces'\n",
    "cid = fig.canvas.mpl_connect('button_press_event', onclick)\n",
    "plt.show()"
   ]
  },
  {
   "cell_type": "code",
   "execution_count": 32,
   "metadata": {
    "collapsed": false
   },
   "outputs": [],
   "source": [
    "for  i in range(len(regionprops(labels))): \n",
    "    if int(props[i].bbox[0]) < event.xdata and int(props[i].bbox[2]) > event.xdata and int(props[i].bbox[1]) < event.ydata  and int(props[1].bbox[2]) > event.ydata:\n",
    "        print i "
   ]
  },
  {
   "cell_type": "code",
   "execution_count": 12,
   "metadata": {
    "collapsed": false
   },
   "outputs": [
    {
     "data": {
      "text/plain": [
       "<matplotlib.image.AxesImage at 0x1230e2e8>"
      ]
     },
     "execution_count": 12,
     "metadata": {},
     "output_type": "execute_result"
    }
   ],
   "source": [
    "plt.imshow(props[1].image)"
   ]
  },
  {
   "cell_type": "code",
   "execution_count": 67,
   "metadata": {
    "collapsed": false
   },
   "outputs": [],
   "source": [
    "y = 493.04838709677426\n",
    "x =280"
   ]
  },
  {
   "cell_type": "code",
   "execution_count": 85,
   "metadata": {
    "collapsed": false
   },
   "outputs": [
    {
     "name": "stdout",
     "output_type": "stream",
     "text": [
      "Area of Fragment 7556 Pixels\n",
      "Equivalent Diameter 98.0846471168 Pixels\n",
      "Major Axis Length 144.287228533 Pixels\n"
     ]
    }
   ],
   "source": [
    "for  i in range(1,len(regionprops(labels))): \n",
    "    if int(props[i].bbox[0]) <x and int(props[i].bbox[2]) >x and int(props[i].bbox[1]) <y  and int(props[i].bbox[3]) >y:\n",
    "          print \"Area of Fragment\", props[i].area,\"Pixels\\n\",\\\n",
    "            \"Equivalent Diameter\", props[i].equivalent_diameter ,\"Pixels\\n\",\\\n",
    "            \"Major Axis Length\", props[i].major_axis_length ,\"Pixels\\n\",\\          "
   ]
  },
  {
   "cell_type": "code",
   "execution_count": 62,
   "metadata": {
    "collapsed": false
   },
   "outputs": [
    {
     "data": {
      "text/plain": [
       "196"
      ]
     },
     "execution_count": 62,
     "metadata": {},
     "output_type": "execute_result"
    }
   ],
   "source": [
    "int(props[1].bbox[])"
   ]
  },
  {
   "cell_type": "code",
   "execution_count": 70,
   "metadata": {
    "collapsed": false
   },
   "outputs": [
    {
     "data": {
      "text/plain": [
       "1253"
      ]
     },
     "execution_count": 70,
     "metadata": {},
     "output_type": "execute_result"
    }
   ],
   "source": [
    "props[1].area"
   ]
  },
  {
   "cell_type": "code",
   "execution_count": null,
   "metadata": {
    "collapsed": true
   },
   "outputs": [],
   "source": [
    "def onclick(event):\n",
    "    y = event.xdata\n",
    "    x = event.ydata\n",
    "    for  i in range(1,len(regionprops(labels))): \n",
    "        if int(props[i].bbox[0]) <x and int(props[i].bbox[2]) >x and int(props[i].bbox[1]) <y  and int(props[i].bbox[3]) >y:\n",
    "            print \"Area of Fragment\", props[i].area,\"Pixels\\n\"   "
   ]
  }
 ],
 "metadata": {
  "kernelspec": {
   "display_name": "Python 2",
   "language": "python",
   "name": "python2"
  },
  "language_info": {
   "codemirror_mode": {
    "name": "ipython",
    "version": 2
   },
   "file_extension": ".py",
   "mimetype": "text/x-python",
   "name": "python",
   "nbconvert_exporter": "python",
   "pygments_lexer": "ipython2",
   "version": "2.7.10"
  }
 },
 "nbformat": 4,
 "nbformat_minor": 0
}
